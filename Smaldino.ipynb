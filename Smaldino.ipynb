{
 "cells": [
  {
   "cell_type": "code",
   "execution_count": 4,
   "metadata": {
    "collapsed": false
   },
   "outputs": [],
   "source": [
    "from __future__ import print_function, division\n",
    "import numpy as np\n",
    "import matplotlib.pyplot as plt\n",
    "%matplotlib inline"
   ]
  },
  {
   "cell_type": "code",
   "execution_count": 6,
   "metadata": {
    "collapsed": false
   },
   "outputs": [],
   "source": [
    "# Check that matplotlib is working \n",
    "#plt.plot(np.arange(10), np.arange(10)*2)"
   ]
  },
  {
   "cell_type": "code",
   "execution_count": 8,
   "metadata": {
    "collapsed": true
   },
   "outputs": [],
   "source": [
    "def alpha_func_power_effort(power, effort=75):\n",
    "    \"\"\"\n",
    "    PAUL E. SMALDINO, and RICHARD MCELREATH (2016). THE NATURAL SELECTION OF BAD SCIENCE.\n",
    "    Equation 2\n",
    "    \n",
    "    $$\n",
    "    \\alpha = \\frac{W}{1 +  (1-W)e}\n",
    "    $$\n",
    "    \n",
    "    where:\n",
    "        $\\alpha$ : the false positive rate\n",
    "        $W$ : the power\n",
    "        $e$ : effort, as defined by Smaldino\n",
    "    \"\"\"\n",
    "    \n",
    "    return power / (1 + (1 - power) * effort)\n",
    "\n",
    "    "
   ]
  },
  {
   "cell_type": "code",
   "execution_count": 24,
   "metadata": {
    "collapsed": false
   },
   "outputs": [
    {
     "name": "stdout",
     "output_type": "stream",
     "text": [
      "(3, 100)\n"
     ]
    },
    {
     "data": {
      "text/plain": [
       "<matplotlib.legend.Legend at 0x7f4faa8bde10>"
      ]
     },
     "execution_count": 24,
     "metadata": {},
     "output_type": "execute_result"
    },
    {
     "data": {
      "image/png": "[encoded data removed]",
      "text/plain": [
       "<matplotlib.figure.Figure at 0x7f4fab0a39d0>"
      ]
     },
     "metadata": {},
     "output_type": "display_data"
    }
   ],
   "source": [
    "power = np.linspace(0, 1, 100)\n",
    "efforts = np.asarray([1., 10., 75.])\n",
    "alphas = np.zeros((efforts.shape[0], power.shape[0]))\n",
    "print(alphas.shape)\n",
    "for idx,e in enumerate(efforts):\n",
    "    alphas[idx] = alpha_func_power_effort(power, effort=e)\n",
    "\n",
    "#plt.plot(power, alpha_func_power_effort(power))\n",
    "lines = plt.plot(power, alphas.T)\n",
    "plt.ylabel(\"$\\\\alpha$\")\n",
    "plt.xlabel(\"$W$\")\n",
    "\n",
    "str_legend = [ \"effort= \"+str(e) for e in efforts]\n",
    "plt.legend(lines, str_legend)"
   ]
  },
  {
   "cell_type": "code",
   "execution_count": null,
   "metadata": {
    "collapsed": true
   },
   "outputs": [],
   "source": []
  }
 ],
 "metadata": {
  "kernelspec": {
   "display_name": "Python 3",
   "language": "python",
   "name": "python3"
  },
  "language_info": {
   "codemirror_mode": {
    "name": "ipython",
    "version": 3
   },
   "file_extension": ".py",
   "mimetype": "text/x-python",
   "name": "python",
   "nbconvert_exporter": "python",
   "pygments_lexer": "ipython3",
   "version": "3.5.2"
  }
 },
 "nbformat": 4,
 "nbformat_minor": 0
}
